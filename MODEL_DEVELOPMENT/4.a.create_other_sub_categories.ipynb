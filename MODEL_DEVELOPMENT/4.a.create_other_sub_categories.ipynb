{
 "cells": [
  {
   "cell_type": "code",
   "execution_count": 1,
   "id": "307bd872",
   "metadata": {},
   "outputs": [],
   "source": [
    "import pandas as pd\n",
    "import numpy as np"
   ]
  },
  {
   "cell_type": "code",
   "execution_count": 2,
   "id": "33675327",
   "metadata": {},
   "outputs": [],
   "source": [
    "import nltk\n",
    "import re\n",
    "import string\n",
    "import contractions\n",
    "import collections\n",
    "from time import time\n",
    "import matplotlib.pyplot as plt\n",
    "import seaborn as sns"
   ]
  },
  {
   "cell_type": "code",
   "execution_count": 3,
   "id": "4dd7f8ab",
   "metadata": {},
   "outputs": [],
   "source": [
    "from nltk.corpus import stopwords\n",
    "from nltk.tokenize import word_tokenize \n",
    "from nltk.stem import WordNetLemmatizer"
   ]
  },
  {
   "cell_type": "code",
   "execution_count": 4,
   "id": "e8232755",
   "metadata": {},
   "outputs": [],
   "source": [
    "from sklearn.feature_extraction.text import TfidfVectorizer\n",
    "from sklearn.cluster import KMeans"
   ]
  },
  {
   "cell_type": "code",
   "execution_count": 5,
   "id": "35f49496",
   "metadata": {},
   "outputs": [],
   "source": [
    "from sklearn.decomposition import TruncatedSVD\n",
    "from sklearn.pipeline import make_pipeline\n",
    "from sklearn.preprocessing import Normalizer"
   ]
  },
  {
   "cell_type": "code",
   "execution_count": 6,
   "id": "f12c96f7",
   "metadata": {},
   "outputs": [],
   "source": [
    "import utils as u"
   ]
  },
  {
   "cell_type": "code",
   "execution_count": 7,
   "id": "bc871f6b",
   "metadata": {},
   "outputs": [],
   "source": [
    "stop_words = nltk.corpus.stopwords.words('english')"
   ]
  },
  {
   "cell_type": "markdown",
   "id": "fbba6c73",
   "metadata": {},
   "source": [
    "### Dataset is a portion of the Tweets surrounding past storms"
   ]
  },
  {
   "cell_type": "code",
   "execution_count": 8,
   "id": "19d09cfb",
   "metadata": {},
   "outputs": [],
   "source": [
    "df_full = pd.read_csv('ORIGINAL_LABELED/all_hurricanes_tweets_train.csv')\n",
    "# df_full = pd.read_csv('YEARS_PRIOR_LABELED/test_with_labels.csv')\n",
    "# df_full = pd.read_csv('https://raw.githubusercontent.com/Cameron-Grams/Team-HIT-workspace/main/hurricane/test_with_labels.csv')"
   ]
  },
  {
   "cell_type": "code",
   "execution_count": 9,
   "id": "f6abf5a2",
   "metadata": {},
   "outputs": [
    {
     "data": {
      "text/plain": [
       "(13209, 18)"
      ]
     },
     "execution_count": 9,
     "metadata": {},
     "output_type": "execute_result"
    }
   ],
   "source": [
    "df_full.shape"
   ]
  },
  {
   "cell_type": "code",
   "execution_count": 10,
   "id": "aab92cd0",
   "metadata": {},
   "outputs": [
    {
     "data": {
      "text/plain": [
       "(2874, 18)"
      ]
     },
     "execution_count": 10,
     "metadata": {},
     "output_type": "execute_result"
    }
   ],
   "source": [
    "df = df_full[df_full['class_label'] == 'other_relevant_information']\n",
    "df.shape"
   ]
  },
  {
   "cell_type": "markdown",
   "id": "d23044a8",
   "metadata": {},
   "source": [
    "## Process Text"
   ]
  },
  {
   "cell_type": "code",
   "execution_count": 11,
   "id": "9d038501",
   "metadata": {},
   "outputs": [],
   "source": [
    "X_raw_text = df['text'].apply(lambda x: u.preprocess_text(x, flg_stemm=True, flg_lemm=True, lst_stopwords=stop_words))"
   ]
  },
  {
   "cell_type": "code",
   "execution_count": 12,
   "id": "7010e26e",
   "metadata": {},
   "outputs": [
    {
     "name": "stdout",
     "output_type": "stream",
     "text": [
      "vectorization done in 0.030 s\n",
      "n_samples: 2874, n_features: 1005\n"
     ]
    }
   ],
   "source": [
    "# the min and max parameters will have to be adjusted\n",
    "\n",
    "vectorizer = TfidfVectorizer(\n",
    "    max_df=0.5,\n",
    "    min_df=5,\n",
    "    stop_words=\"english\",\n",
    ")\n",
    "t0 = time()\n",
    "X_tfidf = vectorizer.fit_transform(X_raw_text)\n",
    "\n",
    "print(f\"vectorization done in {time() - t0:.3f} s\")\n",
    "print(f\"n_samples: {X_tfidf.shape[0]}, n_features: {X_tfidf.shape[1]}\")"
   ]
  },
  {
   "cell_type": "markdown",
   "id": "4a041644",
   "metadata": {},
   "source": [
    "### Dimensionality reduction with SVD"
   ]
  },
  {
   "cell_type": "code",
   "execution_count": 13,
   "id": "de9b6166",
   "metadata": {},
   "outputs": [
    {
     "name": "stdout",
     "output_type": "stream",
     "text": [
      "LSA done in 0.108 s\n",
      "Explained variance of the SVD step: 37.5%\n"
     ]
    }
   ],
   "source": [
    "lsa = make_pipeline(TruncatedSVD(n_components=100), Normalizer(copy=False))\n",
    "t0 = time()\n",
    "X_lsa = lsa.fit_transform(X_tfidf)\n",
    "explained_variance = lsa[0].explained_variance_ratio_.sum()\n",
    "\n",
    "print(f\"LSA done in {time() - t0:.3f} s\")\n",
    "print(f\"Explained variance of the SVD step: {explained_variance * 100:.1f}%\")"
   ]
  },
  {
   "cell_type": "code",
   "execution_count": 14,
   "id": "3e853d36-6f4b-4aa9-bf6f-5283f783bb4c",
   "metadata": {},
   "outputs": [
    {
     "name": "stdout",
     "output_type": "stream",
     "text": [
      "LSA done in 0.949 s\n",
      "Explained variance of the SVD step: 92.6%\n"
     ]
    }
   ],
   "source": [
    "lsa_2 = make_pipeline(TruncatedSVD(n_components=700), Normalizer(copy=False))\n",
    "t0 = time()\n",
    "X_lsa_2 = lsa_2.fit_transform(X_tfidf)\n",
    "explained_variance_2 = lsa_2[0].explained_variance_ratio_.sum()\n",
    "\n",
    "print(f\"LSA done in {time() - t0:.3f} s\")\n",
    "print(f\"Explained variance of the SVD step: {explained_variance_2 * 100:.1f}%\")"
   ]
  },
  {
   "cell_type": "markdown",
   "id": "efb13402",
   "metadata": {},
   "source": [
    "## Model selection"
   ]
  },
  {
   "cell_type": "code",
   "execution_count": 15,
   "id": "40596a86",
   "metadata": {},
   "outputs": [],
   "source": [
    "make_km = lambda x: KMeans(\n",
    "    n_clusters=x,\n",
    "    max_iter=100,\n",
    "    init = 'k-means++',\n",
    "    n_init=5,\n",
    ")"
   ]
  },
  {
   "cell_type": "code",
   "execution_count": 16,
   "id": "0acee1ca",
   "metadata": {},
   "outputs": [],
   "source": [
    "Sum_of_squared_distances = []\n",
    "Sum_of_squared_distances_2 = []\n",
    "\n",
    "K = range(1,15)\n",
    "\n",
    "for k in K:\n",
    "    km = make_km(k)\n",
    "    km = km.fit(X_lsa)\n",
    "    Sum_of_squared_distances.append(km.inertia_)\n",
    "    \n",
    "    km_2 = km.fit(X_lsa_2)\n",
    "    Sum_of_squared_distances_2.append(km_2.inertia_)"
   ]
  },
  {
   "cell_type": "code",
   "execution_count": 17,
   "id": "6ad21652",
   "metadata": {},
   "outputs": [
    {
     "data": {
      "image/png": "[encoded data removed]",
      "text/plain": [
       "<Figure size 1200x500 with 2 Axes>"
      ]
     },
     "metadata": {},
     "output_type": "display_data"
    }
   ],
   "source": [
    "fig, (ax1, ax2) = plt.subplots(1,2, figsize=(12,5))\n",
    "sns.lineplot(x=K, y=Sum_of_squared_distances, markers=True, ax=ax1)\n",
    "sns.lineplot(x=K, y=Sum_of_squared_distances_2, markers=True, ax=ax2)\n",
    "\n",
    "\n",
    "fig.suptitle(\"Comparison of components\", fontsize=16)\n",
    "ax1.set_title('100 Components')\n",
    "ax2.set_title('700 Components')\n",
    "\n",
    "ax1.set_xlabel('Number of Clusters')\n",
    "ax2.set_xlabel('Number of Clusters')\n",
    "ax1.set_ylabel('Sum of squared distances')\n",
    "# plt.ylabel('Sum_of_squared_distances')\n",
    "# plt.title('Elbow Method For Optimal k')\n",
    "plt.show()"
   ]
  },
  {
   "cell_type": "markdown",
   "id": "fde93c10",
   "metadata": {},
   "source": [
    "## Identify Clusters"
   ]
  },
  {
   "cell_type": "code",
   "execution_count": 18,
   "id": "9104183c",
   "metadata": {},
   "outputs": [],
   "source": [
    "# input the number of the elbow from the graph\n",
    "num_k = 5"
   ]
  },
  {
   "cell_type": "code",
   "execution_count": 19,
   "id": "b000f824",
   "metadata": {},
   "outputs": [
    {
     "data": {
      "text/html": [
       "<style>#sk-container-id-1 {color: black;background-color: white;}#sk-container-id-1 pre{padding: 0;}#sk-container-id-1 div.sk-toggleable {background-color: white;}#sk-container-id-1 label.sk-toggleable__label {cursor: pointer;display: block;width: 100%;margin-bottom: 0;padding: 0.3em;box-sizing: border-box;text-align: center;}#sk-container-id-1 label.sk-toggleable__label-arrow:before {content: \"▸\";float: left;margin-right: 0.25em;color: #696969;}#sk-container-id-1 label.sk-toggleable__label-arrow:hover:before {color: black;}#sk-container-id-1 div.sk-estimator:hover label.sk-toggleable__label-arrow:before {color: black;}#sk-container-id-1 div.sk-toggleable__content {max-height: 0;max-width: 0;overflow: hidden;text-align: left;background-color: #f0f8ff;}#sk-container-id-1 div.sk-toggleable__content pre {margin: 0.2em;color: black;border-radius: 0.25em;background-color: #f0f8ff;}#sk-container-id-1 input.sk-toggleable__control:checked~div.sk-toggleable__content {max-height: 200px;max-width: 100%;overflow: auto;}#sk-container-id-1 input.sk-toggleable__control:checked~label.sk-toggleable__label-arrow:before {content: \"▾\";}#sk-container-id-1 div.sk-estimator input.sk-toggleable__control:checked~label.sk-toggleable__label {background-color: #d4ebff;}#sk-container-id-1 div.sk-label input.sk-toggleable__control:checked~label.sk-toggleable__label {background-color: #d4ebff;}#sk-container-id-1 input.sk-hidden--visually {border: 0;clip: rect(1px 1px 1px 1px);clip: rect(1px, 1px, 1px, 1px);height: 1px;margin: -1px;overflow: hidden;padding: 0;position: absolute;width: 1px;}#sk-container-id-1 div.sk-estimator {font-family: monospace;background-color: #f0f8ff;border: 1px dotted black;border-radius: 0.25em;box-sizing: border-box;margin-bottom: 0.5em;}#sk-container-id-1 div.sk-estimator:hover {background-color: #d4ebff;}#sk-container-id-1 div.sk-parallel-item::after {content: \"\";width: 100%;border-bottom: 1px solid gray;flex-grow: 1;}#sk-container-id-1 div.sk-label:hover label.sk-toggleable__label {background-color: #d4ebff;}#sk-container-id-1 div.sk-serial::before {content: \"\";position: absolute;border-left: 1px solid gray;box-sizing: border-box;top: 0;bottom: 0;left: 50%;z-index: 0;}#sk-container-id-1 div.sk-serial {display: flex;flex-direction: column;align-items: center;background-color: white;padding-right: 0.2em;padding-left: 0.2em;position: relative;}#sk-container-id-1 div.sk-item {position: relative;z-index: 1;}#sk-container-id-1 div.sk-parallel {display: flex;align-items: stretch;justify-content: center;background-color: white;position: relative;}#sk-container-id-1 div.sk-item::before, #sk-container-id-1 div.sk-parallel-item::before {content: \"\";position: absolute;border-left: 1px solid gray;box-sizing: border-box;top: 0;bottom: 0;left: 50%;z-index: -1;}#sk-container-id-1 div.sk-parallel-item {display: flex;flex-direction: column;z-index: 1;position: relative;background-color: white;}#sk-container-id-1 div.sk-parallel-item:first-child::after {align-self: flex-end;width: 50%;}#sk-container-id-1 div.sk-parallel-item:last-child::after {align-self: flex-start;width: 50%;}#sk-container-id-1 div.sk-parallel-item:only-child::after {width: 0;}#sk-container-id-1 div.sk-dashed-wrapped {border: 1px dashed gray;margin: 0 0.4em 0.5em 0.4em;box-sizing: border-box;padding-bottom: 0.4em;background-color: white;}#sk-container-id-1 div.sk-label label {font-family: monospace;font-weight: bold;display: inline-block;line-height: 1.2em;}#sk-container-id-1 div.sk-label-container {text-align: center;}#sk-container-id-1 div.sk-container {/* jupyter's `normalize.less` sets `[hidden] { display: none; }` but bootstrap.min.css set `[hidden] { display: none !important; }` so we also need the `!important` here to be able to override the default hidden behavior on the sphinx rendered scikit-learn.org. See: https://github.com/scikit-learn/scikit-learn/issues/21755 */display: inline-block !important;position: relative;}#sk-container-id-1 div.sk-text-repr-fallback {display: none;}</style><div id=\"sk-container-id-1\" class=\"sk-top-container\"><div class=\"sk-text-repr-fallback\"><pre>KMeans(max_iter=100, n_clusters=5, n_init=5)</pre><b>In a Jupyter environment, please rerun this cell to show the HTML representation or trust the notebook. <br />On GitHub, the HTML representation is unable to render, please try loading this page with nbviewer.org.</b></div><div class=\"sk-container\" hidden><div class=\"sk-item\"><div class=\"sk-estimator sk-toggleable\"><input class=\"sk-toggleable__control sk-hidden--visually\" id=\"sk-estimator-id-1\" type=\"checkbox\" checked><label for=\"sk-estimator-id-1\" class=\"sk-toggleable__label sk-toggleable__label-arrow\">KMeans</label><div class=\"sk-toggleable__content\"><pre>KMeans(max_iter=100, n_clusters=5, n_init=5)</pre></div></div></div></div></div>"
      ],
      "text/plain": [
       "KMeans(max_iter=100, n_clusters=5, n_init=5)"
      ]
     },
     "execution_count": 19,
     "metadata": {},
     "output_type": "execute_result"
    }
   ],
   "source": [
    "kmeans = make_km(num_k)\n",
    "kmeans.fit(X_lsa_2)"
   ]
  },
  {
   "cell_type": "code",
   "execution_count": 20,
   "id": "60e83c20",
   "metadata": {},
   "outputs": [
    {
     "name": "stdout",
     "output_type": "stream",
     "text": [
      "Cluster 0: rt hurricaneharvey hurricaneirma hurricanemaria amp water harvey food relief aid shelter thank puertorico help affect earthquak thi home peopl rain \n",
      "\n",
      "Cluster 1: puerto rico maria hurrican rt aid hurricanemaria rican island power food water relief http suppli peopl trump devast flood help \n",
      "\n",
      "Cluster 2: hurrican haiti maria matthew harvey rt relief hit affect water effort new victim devast help destruct amp impact 2010 area \n",
      "\n",
      "Cluster 3: flood harvey houston rt water hurricaneharvey hurrican storm victim texa tropic area amp rain home caus flash relief river texas \n",
      "\n",
      "Cluster 4: irma hurrican rt florida relief shelter victim water food amp storm destruct resid damag miami effort help http power caribbean \n",
      "\n"
     ]
    }
   ],
   "source": [
    "original_space_centroids = lsa_2[0].inverse_transform(kmeans.cluster_centers_)\n",
    "order_centroids = original_space_centroids.argsort()[:, ::-1]\n",
    "terms = vectorizer.get_feature_names_out()\n",
    "\n",
    "for i in range(num_k):\n",
    "    print(f\"Cluster {i}: \", end=\"\")\n",
    "    for ind in order_centroids[i, :20]:\n",
    "        print(f\"{terms[ind]} \", end=\"\")\n",
    "    print(\"\\n\")"
   ]
  },
  {
   "cell_type": "markdown",
   "id": "46206d25",
   "metadata": {},
   "source": [
    "##### "
   ]
  }
 ],
 "metadata": {
  "kernelspec": {
   "display_name": "Python 3 (ipykernel)",
   "language": "python",
   "name": "python3"
  },
  "language_info": {
   "codemirror_mode": {
    "name": "ipython",
    "version": 3
   },
   "file_extension": ".py",
   "mimetype": "text/x-python",
   "name": "python",
   "nbconvert_exporter": "python",
   "pygments_lexer": "ipython3",
   "version": "3.10.8"
  }
 },
 "nbformat": 4,
 "nbformat_minor": 5
}
