{
 "cells": [
  {
   "cell_type": "code",
   "execution_count": null,
   "id": "dd8bda5a",
   "metadata": {},
   "outputs": [],
   "source": [
    "import pandas as pd\n",
    "import numpy as np"
   ]
  },
  {
   "cell_type": "code",
   "execution_count": null,
   "id": "5e03403f",
   "metadata": {},
   "outputs": [],
   "source": [
    "import json\n",
    "import datetime\n",
    "import random"
   ]
  },
  {
   "cell_type": "code",
   "execution_count": null,
   "id": "502af1c1",
   "metadata": {},
   "outputs": [],
   "source": [
    "import config\n",
    "import request_history"
   ]
  },
  {
   "cell_type": "code",
   "execution_count": null,
   "id": "21347512",
   "metadata": {},
   "outputs": [],
   "source": [
    "# hurricane sandy: formed: 1 July 2014, dissipated: 9 July 2014\n",
    "date_ = '2012-09-15T00:00:00.000Z'"
   ]
  },
  {
   "cell_type": "code",
   "execution_count": null,
   "id": "89a0a872",
   "metadata": {},
   "outputs": [],
   "source": [
    "# hurricane arthur: formed: 1 July 2014, dissipated: 9 July 2014\n",
    "# date_ = '2014-06-01T00:00:00.000Z'"
   ]
  },
  {
   "cell_type": "code",
   "execution_count": null,
   "id": "865b067b",
   "metadata": {},
   "outputs": [],
   "source": [
    "# hurricane florence: formed: 31 Aug 2018, dissipated: 18 Sept 2018\n",
    "# date_ = '2018-08-01T00:00:00.000Z'"
   ]
  },
  {
   "cell_type": "code",
   "execution_count": null,
   "id": "d42d33f0",
   "metadata": {},
   "outputs": [],
   "source": [
    "# hurricane barry: formed: 11 July 2019, dissipated: 19 July 2019\n",
    "# date_ = '2019-06-15T00:00:00.000Z'"
   ]
  },
  {
   "cell_type": "code",
   "execution_count": null,
   "id": "6270d56b",
   "metadata": {},
   "outputs": [],
   "source": [
    "# hurricane Isaias: formed: 30 July 2020, dissipated: 5 Aug 2020\n",
    "# date_ = '2020-07-01T00:00:00.000Z'"
   ]
  },
  {
   "cell_type": "code",
   "execution_count": null,
   "id": "4e529306",
   "metadata": {},
   "outputs": [],
   "source": [
    "# hurricane nicholas: formed: 12 Sept 2021, dissipated: 20 Sept 2021\n",
    "# date_ = '2021-08-15T00:00:00.000Z'"
   ]
  },
  {
   "cell_type": "code",
   "execution_count": null,
   "id": "f8a4d212",
   "metadata": {},
   "outputs": [],
   "source": [
    "# hurricane terms adopted from the Stowe paper: \n",
    "# change the name of the storm per date range\n",
    "query_terms = \"Category 3 OR Category 4 OR landfall OR eyewall OR cleanup OR debris OR garbage OR hurricane OR hurricaneian OR perfectstorm OR sandy OR stormporn OR superstorm OR Tropical Storm\""
   ]
  },
  {
   "cell_type": "code",
   "execution_count": null,
   "id": "1c7159d6",
   "metadata": {},
   "outputs": [],
   "source": [
    "# update dates iterates by 5 days + random hour selection - 500 tweets filled up in minutes\n",
    "# so a random hour selection was used to interject variability in the time selection \n",
    "\n",
    "def generate_dates(old_end):\n",
    "    \"\"\"\n",
    "    updates the start and end dates to pull tweets from the Twitter API (Academic Permissions)\n",
    "    arguments:\n",
    "        - old_end: string formated date to start the window for pulling set of 500 tweets\n",
    "        \n",
    "    return:\n",
    "        - new_start: the previous end date\n",
    "        - new_end: 5 days from the old end, at a random hour\n",
    "    \"\"\"\n",
    "    hour_increment = random.randint(0, 23)\n",
    "    new_start = old_end\n",
    "\n",
    "    old_date = datetime.datetime.strptime(old_end, '%Y-%m-%dT%H:%M:%S.%fZ')\n",
    "    new_end_dtg = old_date + datetime.timedelta(days=3, hours=hour_increment)\n",
    "    new_end = datetime.datetime.strftime(new_end_dtg, '%Y-%m-%dT%H:%M:%S.%fZ')\n",
    "\n",
    "    return new_start, new_end"
   ]
  },
  {
   "cell_type": "code",
   "execution_count": null,
   "id": "1d4080ea",
   "metadata": {},
   "outputs": [],
   "source": [
    "def next_batch(previous_end, query_terms=query_terms, generate_dates=generate_dates):\n",
    "    # request 500 tweets at a time\n",
    "    time_now = datetime.datetime.now()\n",
    "    print(f\"Time of most recent request: {time_now.hour}:{time_now.minute}\")\n",
    "\n",
    "    start, end = generate_dates(previous_end)\n",
    "    tweet_batch = request_history.main(query_terms, start, end)\n",
    "\n",
    "    return end, tweet_batch"
   ]
  },
  {
   "cell_type": "code",
   "execution_count": null,
   "id": "7cbb7087",
   "metadata": {},
   "outputs": [],
   "source": [
    "def create_tweets_df(raw_list):\n",
    "    list_of_tweets = []\n",
    "    for tweet in raw_list:\n",
    "        current_df = pd.DataFrame([tweet])\n",
    "        list_of_tweets.append(current_df)\n",
    "    df = pd.concat(list_of_tweets, ignore_index=True)\n",
    "    return df"
   ]
  },
  {
   "cell_type": "code",
   "execution_count": null,
   "id": "3eb2b54e",
   "metadata": {},
   "outputs": [],
   "source": [
    "all_dfs = []\n",
    "for _ in range(25):\n",
    "    try:\n",
    "        date_, tweets = next_batch(date_)\n",
    "        df = create_tweets_df(tweets['data'])\n",
    "        all_dfs.append(df)\n",
    "    except Exception as e:\n",
    "        print(\"Final date: \", date_)\n",
    "        print(\"API errors: \", e)\n",
    "        break"
   ]
  },
  {
   "cell_type": "code",
   "execution_count": null,
   "id": "3a994c84",
   "metadata": {},
   "outputs": [],
   "source": [
    "final_df = pd.concat(all_dfs, ignore_index=True)\n",
    "final_df.shape"
   ]
  },
  {
   "cell_type": "code",
   "execution_count": null,
   "id": "d549aadc",
   "metadata": {},
   "outputs": [],
   "source": [
    "date_"
   ]
  },
  {
   "cell_type": "code",
   "execution_count": null,
   "id": "d385a5b3",
   "metadata": {},
   "outputs": [],
   "source": [
    "cols = list(final_df.columns)\n",
    "cols"
   ]
  },
  {
   "cell_type": "code",
   "execution_count": null,
   "id": "f6e6efc7",
   "metadata": {},
   "outputs": [],
   "source": [
    "order = [\n",
    "    'id',\n",
    "    'text',\n",
    "    'author_id',\n",
    "    'created_at',\n",
    "    'public_metrics',\n",
    "    'reply_settings',\n",
    "    'entities',\n",
    "    'possibly_sensitive',\n",
    "    'edit_history_tweet_ids',\n",
    "    'source',\n",
    "    'lang',\n",
    "    'referenced_tweets',\n",
    "    'conversation_id',\n",
    "    'in_reply_to_user_id',\n",
    "    'attachments'    \n",
    "]\n",
    "\n",
    "len(order)"
   ]
  },
  {
   "cell_type": "code",
   "execution_count": null,
   "id": "e1b52258",
   "metadata": {},
   "outputs": [],
   "source": [
    "df = final_df[order]"
   ]
  },
  {
   "cell_type": "code",
   "execution_count": null,
   "id": "ecf890a5",
   "metadata": {},
   "outputs": [],
   "source": [
    "df.to_csv('./ADD_HUR_DATA/sandy_2012_3day_increment_v2.csv', index=False)\n",
    "# df.to_csv('./ADD_HUR_DATA/arthur_2014_3day_increment_v2.csv', index=False)\n",
    "# df.to_csv('./ADD_HUR_DATA/florence_2018_3day_increment.csv', index=False)\n",
    "# df.to_csv('./ADD_HUR_DATA/barry_2019_3day_increment.csv', index=False)\n",
    "# df.to_csv('./ADD_HUR_DATA/isaias_2020_3day_increment.csv', index=False)\n",
    "# df.to_csv('./ADD_HUR_DATA/nicholas_2021_3day_increment.csv', index=False)"
   ]
  },
  {
   "cell_type": "code",
   "execution_count": null,
   "id": "297f81ec",
   "metadata": {},
   "outputs": [],
   "source": [
    "df.head()"
   ]
  },
  {
   "cell_type": "code",
   "execution_count": null,
   "id": "ae05f318",
   "metadata": {},
   "outputs": [],
   "source": []
  }
 ],
 "metadata": {
  "kernelspec": {
   "display_name": "Python 3 (ipykernel)",
   "language": "python",
   "name": "python3"
  },
  "language_info": {
   "codemirror_mode": {
    "name": "ipython",
    "version": 3
   },
   "file_extension": ".py",
   "mimetype": "text/x-python",
   "name": "python",
   "nbconvert_exporter": "python",
   "pygments_lexer": "ipython3",
   "version": "3.10.8"
  }
 },
 "nbformat": 4,
 "nbformat_minor": 5
}
