{
 "cells": [
  {
   "cell_type": "code",
   "execution_count": null,
   "id": "dbf742c3",
   "metadata": {},
   "outputs": [],
   "source": [
    "import pandas as pd\n",
    "import numpy as np\n",
    "import json\n",
    "import datetime\n",
    "import time"
   ]
  },
  {
   "cell_type": "code",
   "execution_count": null,
   "id": "9d0f353a",
   "metadata": {},
   "outputs": [],
   "source": [
    "import config\n",
    "import request_by_IDS"
   ]
  },
  {
   "cell_type": "code",
   "execution_count": null,
   "id": "9712033c",
   "metadata": {},
   "outputs": [],
   "source": [
    "# import the labeled data\n",
    "df = pd.read_csv('all_labeled_data_without_maryland.csv')\n",
    "df.shape"
   ]
  },
  {
   "cell_type": "code",
   "execution_count": null,
   "id": "3625207b",
   "metadata": {},
   "outputs": [],
   "source": [
    "df.head()"
   ]
  },
  {
   "cell_type": "code",
   "execution_count": null,
   "id": "a8a78839",
   "metadata": {},
   "outputs": [],
   "source": [
    "tweet_list = list(df['tweet_id'])"
   ]
  },
  {
   "cell_type": "code",
   "execution_count": null,
   "id": "8eb2e3b0",
   "metadata": {},
   "outputs": [],
   "source": [
    "def recover_tweets(tweet_list, start_index, request_byIDS=request_by_IDS):\n",
    "    \"\"\"\n",
    "    given a list of tweets call for the tweet from the endpoint in request_by_ID\n",
    "    advance tweet by tweet until rate limited -- delay?\n",
    "\n",
    "    return:\n",
    "        - new_index:\n",
    "        - collected_tweets: list of tweet objects\n",
    "    \"\"\"\n",
    "\n",
    "    call_tweets = True\n",
    "    new_index = start_index\n",
    "    collected_tweets = []\n",
    "\n",
    "    while call_tweets == True:\n",
    "\n",
    "        try:\n",
    "            twt = tweet_list[new_index]\n",
    "            new_tweet = request_by_IDS.main(twt)\n",
    "            collected_tweets.append(new_tweet)\n",
    "            new_index += 1\n",
    "            print(new_index)\n",
    "        except:\n",
    "            print(f\"Last index used: {new_index}\")\n",
    "            call_tweets = False\n",
    "\n",
    "    return new_index, collected_tweets"
   ]
  },
  {
   "cell_type": "code",
   "execution_count": null,
   "id": "8e16d391",
   "metadata": {},
   "outputs": [],
   "source": [
    "def clean_tweets_for_errors(tweet_list):\n",
    "    output_tweets = []\n",
    "    for tweet in tweet_list:\n",
    "        if 'data' in tweet.keys():\n",
    "            output_tweets.append(tweet['data'])\n",
    "    return output_tweets"
   ]
  },
  {
   "cell_type": "code",
   "execution_count": null,
   "id": "b113b26d",
   "metadata": {},
   "outputs": [],
   "source": [
    "def create_tweets_df(raw_list):\n",
    "    \"\"\"\n",
    "    given the list of tweet objects return a single data frame\n",
    "    \"\"\"\n",
    "    list_of_tweets = []\n",
    "    for tweet in raw_list:\n",
    "        current_df = pd.DataFrame([tweet])\n",
    "        list_of_tweets.append(current_df)\n",
    "    df = pd.concat(list_of_tweets, ignore_index=True)\n",
    "    return df"
   ]
  },
  {
   "cell_type": "code",
   "execution_count": null,
   "id": "5a20abe8",
   "metadata": {},
   "outputs": [],
   "source": [
    "i, twts = recover_tweets(tweet_list, 0)\n",
    "good_tweets = clean_tweets_for_errors(twts)\n",
    "df_1  = create_tweets_df(good_tweets)"
   ]
  },
  {
   "cell_type": "code",
   "execution_count": null,
   "id": "b4107d3d",
   "metadata": {
    "scrolled": false
   },
   "outputs": [],
   "source": [
    "df_1.shape"
   ]
  },
  {
   "cell_type": "code",
   "execution_count": null,
   "id": "f9a516dc",
   "metadata": {},
   "outputs": [],
   "source": [
    "%%time\n",
    "i, twts = recover_tweets(tweet_list, 300)\n",
    "good_tweets = clean_tweets_for_errors(twts)\n",
    "df_2  = create_tweets_df(good_tweets)\n",
    "time_end = datetime.datetime.now()"
   ]
  },
  {
   "cell_type": "code",
   "execution_count": null,
   "id": "2d8f7745",
   "metadata": {},
   "outputs": [],
   "source": [
    "%%time\n",
    "i, twts = recover_tweets(tweet_list, 600)\n",
    "good_tweets = clean_tweets_for_errors(twts)\n",
    "df_3  = create_tweets_df(good_tweets)\n",
    "time_end = datetime.datetime.now()"
   ]
  },
  {
   "cell_type": "code",
   "execution_count": null,
   "id": "261c0607",
   "metadata": {},
   "outputs": [],
   "source": [
    "%%time\n",
    "i, twts = recover_tweets(tweet_list, 900)\n",
    "good_tweets = clean_tweets_for_errors(twts)\n",
    "df_4  = create_tweets_df(good_tweets)\n",
    "time_end = datetime.datetime.now()"
   ]
  },
  {
   "cell_type": "code",
   "execution_count": null,
   "id": "981152f2",
   "metadata": {},
   "outputs": [],
   "source": [
    "%%time\n",
    "i, twts = recover_tweets(tweet_list, 1200)\n",
    "good_tweets = clean_tweets_for_errors(twts)\n",
    "df_5  = create_tweets_df(good_tweets)\n",
    "time_end = datetime.datetime.now()"
   ]
  }
 ],
 "metadata": {
  "kernelspec": {
   "display_name": "Python 3 (ipykernel)",
   "language": "python",
   "name": "python3"
  },
  "language_info": {
   "codemirror_mode": {
    "name": "ipython",
    "version": 3
   },
   "file_extension": ".py",
   "mimetype": "text/x-python",
   "name": "python",
   "nbconvert_exporter": "python",
   "pygments_lexer": "ipython3",
   "version": "3.10.8"
  }
 },
 "nbformat": 4,
 "nbformat_minor": 5
}
