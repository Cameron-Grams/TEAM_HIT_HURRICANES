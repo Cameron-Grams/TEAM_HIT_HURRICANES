{
 "cells": [
  {
   "cell_type": "code",
   "execution_count": null,
   "id": "502790fa",
   "metadata": {},
   "outputs": [],
   "source": [
    "import pandas as pd\n",
    "import numpy as np\n",
    "import pickle"
   ]
  },
  {
   "cell_type": "code",
   "execution_count": null,
   "id": "f105df88",
   "metadata": {},
   "outputs": [],
   "source": [
    "import re\n",
    "import string\n",
    "import contractions\n",
    "import collections"
   ]
  },
  {
   "cell_type": "code",
   "execution_count": null,
   "id": "4cec8e2a",
   "metadata": {},
   "outputs": [],
   "source": [
    "import nltk\n",
    "from nltk.corpus import stopwords\n",
    "from nltk.tokenize import word_tokenize \n",
    "from nltk.stem import WordNetLemmatizer"
   ]
  },
  {
   "cell_type": "code",
   "execution_count": null,
   "id": "9fa83ea3",
   "metadata": {},
   "outputs": [],
   "source": [
    "from sklearn.feature_extraction.text import TfidfVectorizer"
   ]
  },
  {
   "cell_type": "code",
   "execution_count": null,
   "id": "2c778ec9",
   "metadata": {},
   "outputs": [],
   "source": [
    "# load the nltk specific parameters\n",
    "stop_words = nltk.corpus.stopwords.words('english')"
   ]
  },
  {
   "cell_type": "code",
   "execution_count": null,
   "id": "f8e7f571",
   "metadata": {},
   "outputs": [],
   "source": [
    "# import trained text vectorizer\n",
    "with open('./WINNING_MODEL/training_vectorizer.pkl', 'rb') as vec_file:\n",
    "    vectorizer = pickle.load(vec_file)"
   ]
  },
  {
   "cell_type": "code",
   "execution_count": null,
   "id": "4c821438",
   "metadata": {},
   "outputs": [],
   "source": [
    "# import trained classifier:\n",
    "with open('./WINNING_MODEL/yes_no_svc_plus.pkl', 'rb') as file:\n",
    "    svc = pickle.load(file)"
   ]
  },
  {
   "cell_type": "code",
   "execution_count": null,
   "id": "6b7bc40b",
   "metadata": {},
   "outputs": [],
   "source": [
    "# csv files from the API\n",
    "\n",
    "# df = pd.read_csv('./ADD_HUR_DATA/sandy_2012_3day_increment_v2.csv')\n",
    "# df.shape"
   ]
  },
  {
   "cell_type": "code",
   "execution_count": null,
   "id": "ef740e23",
   "metadata": {},
   "outputs": [],
   "source": [
    "# df = pd.read_csv('./ADD_HUR_DATA/arthur_2014_3day_increment_v2.csv')\n",
    "# df.shape"
   ]
  },
  {
   "cell_type": "code",
   "execution_count": null,
   "id": "4ad98bcc",
   "metadata": {},
   "outputs": [],
   "source": [
    "# df = pd.read_csv('./ADD_HUR_DATA/barry_2019_3day_increment.csv')\n",
    "# df.shape"
   ]
  },
  {
   "cell_type": "code",
   "execution_count": null,
   "id": "0c0df34f",
   "metadata": {},
   "outputs": [],
   "source": [
    "# df = pd.read_csv('./ADD_HUR_DATA/florence_2018_3day_increment.csv')\n",
    "# df.shape"
   ]
  },
  {
   "cell_type": "code",
   "execution_count": null,
   "id": "4bb49436",
   "metadata": {},
   "outputs": [],
   "source": [
    "# df = pd.read_csv('./ADD_HUR_DATA/isaias_2020_3day_increment.csv')\n",
    "# df.shape"
   ]
  },
  {
   "cell_type": "code",
   "execution_count": null,
   "id": "4ba32057",
   "metadata": {},
   "outputs": [],
   "source": [
    "# df = pd.read_csv('./ADD_HUR_DATA/nicholas_2021_3day_increment.csv')\n",
    "# df.shape"
   ]
  },
  {
   "cell_type": "code",
   "execution_count": null,
   "id": "d83ebccc",
   "metadata": {},
   "outputs": [],
   "source": [
    "df = pd.read_csv('./ADD_HUR_DATA/hurricane_ian_3day_increment2.csv')\n",
    "df.shape"
   ]
  },
  {
   "cell_type": "code",
   "execution_count": null,
   "id": "ae39ea2a",
   "metadata": {},
   "outputs": [],
   "source": [
    "# select or combine lemmatization, stemming, stopword removal to compare performance\n",
    "\n",
    "def preprocess_text(text, flg_stemm = True, flg_lemm = True, lst_stopwords=None):\n",
    "    text_clean = re.sub(r'[^\\w\\s.,]', '', str(text).strip())\n",
    "    lst_text = text_clean.split()\n",
    "    if lst_stopwords is not None:\n",
    "        lst_text = [word for word in lst_text if word not in lst_stopwords]\n",
    "    if flg_stemm == True:\n",
    "        stemm = nltk.stem.porter.PorterStemmer()\n",
    "        lst_text = [stemm.stem(word) for word in lst_text]\n",
    "    if flg_lemm == True:\n",
    "        lem=nltk.stem.wordnet.WordNetLemmatizer()\n",
    "        lst_text = [lem.lemmatize(word) for word in lst_text]\n",
    "\n",
    "    text_clean = ' '.join(filter(None, lst_text))\n",
    "    text_clean = text_clean.replace(\" ,\",\",\").replace(' .', '.')\n",
    "    text_clean = contractions.fix(text_clean)\n",
    "    return text_clean"
   ]
  },
  {
   "cell_type": "code",
   "execution_count": null,
   "id": "5d095a6e",
   "metadata": {},
   "outputs": [],
   "source": [
    "X = df['text'].apply(lambda x: preprocess_text(x, flg_stemm=True, flg_lemm=True, lst_stopwords=stop_words))\n",
    "X.shape"
   ]
  },
  {
   "cell_type": "code",
   "execution_count": null,
   "id": "ac41d0de",
   "metadata": {},
   "outputs": [],
   "source": [
    "# transform the target tweets\n",
    "X_vec = vectorizer.transform(X)"
   ]
  },
  {
   "cell_type": "code",
   "execution_count": null,
   "id": "b8d6a56b",
   "metadata": {},
   "outputs": [],
   "source": [
    "preds = svc.predict(X_vec)"
   ]
  },
  {
   "cell_type": "code",
   "execution_count": null,
   "id": "5806bfd0",
   "metadata": {},
   "outputs": [],
   "source": [
    "preds.shape"
   ]
  },
  {
   "cell_type": "code",
   "execution_count": null,
   "id": "8f35f04a",
   "metadata": {},
   "outputs": [],
   "source": [
    "df['predictions'] = preds\n",
    "df.shape"
   ]
  },
  {
   "cell_type": "code",
   "execution_count": null,
   "id": "e147fd28",
   "metadata": {},
   "outputs": [],
   "source": [
    "final_df = df[df['predictions'] == 1]\n",
    "final_df.shape"
   ]
  },
  {
   "cell_type": "code",
   "execution_count": null,
   "id": "4b4a59eb",
   "metadata": {},
   "outputs": [],
   "source": [
    "final_df.tail()"
   ]
  },
  {
   "cell_type": "code",
   "execution_count": null,
   "id": "74f96e16",
   "metadata": {},
   "outputs": [],
   "source": [
    "# final_sandy.to_csv('./CLEAN_ADD_HUR_DATA/sandy_2012_yn.csv', index=False)"
   ]
  },
  {
   "cell_type": "code",
   "execution_count": null,
   "id": "736c33fa",
   "metadata": {},
   "outputs": [],
   "source": [
    "# final_df.to_csv('./CLEAN_ADD_HUR_DATA/arthur_2014_yn.csv', index=False)"
   ]
  },
  {
   "cell_type": "code",
   "execution_count": null,
   "id": "4f6182b0",
   "metadata": {},
   "outputs": [],
   "source": [
    "# final_df.to_csv('./CLEAN_ADD_HUR_DATA/barry_2019_yn.csv', index=False)"
   ]
  },
  {
   "cell_type": "code",
   "execution_count": null,
   "id": "eca30636",
   "metadata": {},
   "outputs": [],
   "source": [
    "# final_df.to_csv('./CLEAN_ADD_HUR_DATA/florence_2018_yn.csv', index=False)"
   ]
  },
  {
   "cell_type": "code",
   "execution_count": null,
   "id": "e3883dc3",
   "metadata": {},
   "outputs": [],
   "source": [
    "# final_df.to_csv('./CLEAN_ADD_HUR_DATA/isaias_2020_yn.csv', index=False)"
   ]
  },
  {
   "cell_type": "code",
   "execution_count": null,
   "id": "9432a9b5",
   "metadata": {},
   "outputs": [],
   "source": [
    "final_df.to_csv('./CLEAN_ADD_HUR_DATA/ian_2022_yn.csv', index=False)"
   ]
  },
  {
   "cell_type": "code",
   "execution_count": null,
   "id": "225740fd",
   "metadata": {},
   "outputs": [],
   "source": []
  },
  {
   "cell_type": "code",
   "execution_count": null,
   "id": "9b2882e6",
   "metadata": {},
   "outputs": [],
   "source": []
  }
 ],
 "metadata": {
  "kernelspec": {
   "display_name": "Python 3 (ipykernel)",
   "language": "python",
   "name": "python3"
  },
  "language_info": {
   "codemirror_mode": {
    "name": "ipython",
    "version": 3
   },
   "file_extension": ".py",
   "mimetype": "text/x-python",
   "name": "python",
   "nbconvert_exporter": "python",
   "pygments_lexer": "ipython3",
   "version": "3.10.8"
  }
 },
 "nbformat": 4,
 "nbformat_minor": 5
}
