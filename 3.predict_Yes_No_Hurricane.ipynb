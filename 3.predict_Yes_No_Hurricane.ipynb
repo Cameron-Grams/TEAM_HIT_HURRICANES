{
 "cells": [
  {
   "cell_type": "code",
   "execution_count": 1,
   "id": "502790fa",
   "metadata": {},
   "outputs": [],
   "source": [
    "import pandas as pd\n",
    "import numpy as np\n",
    "import pickle"
   ]
  },
  {
   "cell_type": "code",
   "execution_count": 2,
   "id": "f105df88",
   "metadata": {},
   "outputs": [],
   "source": [
    "import re\n",
    "import string\n",
    "import contractions\n",
    "import collections"
   ]
  },
  {
   "cell_type": "code",
   "execution_count": 3,
   "id": "4cec8e2a",
   "metadata": {},
   "outputs": [],
   "source": [
    "import nltk\n",
    "from nltk.corpus import stopwords\n",
    "from nltk.tokenize import word_tokenize \n",
    "from nltk.stem import WordNetLemmatizer"
   ]
  },
  {
   "cell_type": "code",
   "execution_count": 4,
   "id": "9fa83ea3",
   "metadata": {},
   "outputs": [],
   "source": [
    "from sklearn.feature_extraction.text import TfidfVectorizer"
   ]
  },
  {
   "cell_type": "code",
   "execution_count": 5,
   "id": "2c778ec9",
   "metadata": {},
   "outputs": [],
   "source": [
    "# load the nltk specific parameters\n",
    "stop_words = nltk.corpus.stopwords.words('english')"
   ]
  },
  {
   "cell_type": "code",
   "execution_count": 6,
   "id": "f8e7f571",
   "metadata": {},
   "outputs": [],
   "source": [
    "# import trained text vectorizer\n",
    "with open('./WINNING_MODEL/training_vectorizer.pkl', 'rb') as vec_file:\n",
    "    vectorizer = pickle.load(vec_file)"
   ]
  },
  {
   "cell_type": "code",
   "execution_count": 7,
   "id": "4c821438",
   "metadata": {},
   "outputs": [],
   "source": [
    "# import trained classifier:\n",
    "with open('./WINNING_MODEL/yes_no_svc_plus.pkl', 'rb') as file:\n",
    "    svc = pickle.load(file)"
   ]
  },
  {
   "cell_type": "code",
   "execution_count": 8,
   "id": "6b7bc40b",
   "metadata": {},
   "outputs": [],
   "source": [
    "# csv files from the API\n",
    "\n",
    "# df = pd.read_csv('./ADD_HUR_DATA/sandy_2012_3day_increment_v2.csv')\n",
    "# df.shape"
   ]
  },
  {
   "cell_type": "code",
   "execution_count": 9,
   "id": "ef740e23",
   "metadata": {},
   "outputs": [],
   "source": [
    "# df = pd.read_csv('./ADD_HUR_DATA/arthur_2014_3day_increment_v2.csv')\n",
    "# df.shape"
   ]
  },
  {
   "cell_type": "code",
   "execution_count": 10,
   "id": "4ad98bcc",
   "metadata": {},
   "outputs": [],
   "source": [
    "# df = pd.read_csv('./ADD_HUR_DATA/barry_2019_3day_increment.csv')\n",
    "# df.shape"
   ]
  },
  {
   "cell_type": "code",
   "execution_count": 11,
   "id": "0c0df34f",
   "metadata": {},
   "outputs": [],
   "source": [
    "# df = pd.read_csv('./ADD_HUR_DATA/florence_2018_3day_increment.csv')\n",
    "# df.shape"
   ]
  },
  {
   "cell_type": "code",
   "execution_count": 12,
   "id": "4bb49436",
   "metadata": {},
   "outputs": [],
   "source": [
    "# df = pd.read_csv('./ADD_HUR_DATA/isaias_2020_3day_increment.csv')\n",
    "# df.shape"
   ]
  },
  {
   "cell_type": "code",
   "execution_count": 13,
   "id": "4ba32057",
   "metadata": {},
   "outputs": [],
   "source": [
    "# df = pd.read_csv('./ADD_HUR_DATA/nicholas_2021_3day_increment.csv')\n",
    "# df.shape"
   ]
  },
  {
   "cell_type": "code",
   "execution_count": 14,
   "id": "d83ebccc",
   "metadata": {},
   "outputs": [
    {
     "data": {
      "text/plain": [
       "(8627, 16)"
      ]
     },
     "execution_count": 14,
     "metadata": {},
     "output_type": "execute_result"
    }
   ],
   "source": [
    "df = pd.read_csv('./ADD_HUR_DATA/hurricane_ian_3day_increment2.csv')\n",
    "df.shape"
   ]
  },
  {
   "cell_type": "code",
   "execution_count": 15,
   "id": "ae39ea2a",
   "metadata": {},
   "outputs": [],
   "source": [
    "# select or combine lemmatization, stemming, stopword removal to compare performance\n",
    "\n",
    "def preprocess_text(text, flg_stemm = True, flg_lemm = True, lst_stopwords=None):\n",
    "    text_clean = re.sub(r'[^\\w\\s.,]', '', str(text).strip())\n",
    "    lst_text = text_clean.split()\n",
    "    if lst_stopwords is not None:\n",
    "        lst_text = [word for word in lst_text if word not in lst_stopwords]\n",
    "    if flg_stemm == True:\n",
    "        stemm = nltk.stem.porter.PorterStemmer()\n",
    "        lst_text = [stemm.stem(word) for word in lst_text]\n",
    "    if flg_lemm == True:\n",
    "        lem=nltk.stem.wordnet.WordNetLemmatizer()\n",
    "        lst_text = [lem.lemmatize(word) for word in lst_text]\n",
    "\n",
    "    text_clean = ' '.join(filter(None, lst_text))\n",
    "    text_clean = text_clean.replace(\" ,\",\",\").replace(' .', '.')\n",
    "    text_clean = contractions.fix(text_clean)\n",
    "    return text_clean"
   ]
  },
  {
   "cell_type": "code",
   "execution_count": 16,
   "id": "5d095a6e",
   "metadata": {},
   "outputs": [
    {
     "data": {
      "text/plain": [
       "(8627,)"
      ]
     },
     "execution_count": 16,
     "metadata": {},
     "output_type": "execute_result"
    }
   ],
   "source": [
    "X = df['text'].apply(lambda x: preprocess_text(x, flg_stemm=True, flg_lemm=True, lst_stopwords=stop_words))\n",
    "X.shape"
   ]
  },
  {
   "cell_type": "code",
   "execution_count": 17,
   "id": "ac41d0de",
   "metadata": {},
   "outputs": [],
   "source": [
    "# transform the target tweets\n",
    "X_vec = vectorizer.transform(X)"
   ]
  },
  {
   "cell_type": "code",
   "execution_count": 18,
   "id": "b8d6a56b",
   "metadata": {},
   "outputs": [],
   "source": [
    "preds = svc.predict(X_vec)"
   ]
  },
  {
   "cell_type": "code",
   "execution_count": 19,
   "id": "5806bfd0",
   "metadata": {},
   "outputs": [
    {
     "data": {
      "text/plain": [
       "(8627,)"
      ]
     },
     "execution_count": 19,
     "metadata": {},
     "output_type": "execute_result"
    }
   ],
   "source": [
    "preds.shape"
   ]
  },
  {
   "cell_type": "code",
   "execution_count": 20,
   "id": "8f35f04a",
   "metadata": {},
   "outputs": [
    {
     "data": {
      "text/plain": [
       "(8627, 17)"
      ]
     },
     "execution_count": 20,
     "metadata": {},
     "output_type": "execute_result"
    }
   ],
   "source": [
    "df['predictions'] = preds\n",
    "df.shape"
   ]
  },
  {
   "cell_type": "code",
   "execution_count": 21,
   "id": "e147fd28",
   "metadata": {},
   "outputs": [
    {
     "data": {
      "text/plain": [
       "(2605, 17)"
      ]
     },
     "execution_count": 21,
     "metadata": {},
     "output_type": "execute_result"
    }
   ],
   "source": [
    "final_df = df[df['predictions'] == 1]\n",
    "final_df.shape"
   ]
  },
  {
   "cell_type": "code",
   "execution_count": 22,
   "id": "4b4a59eb",
   "metadata": {},
   "outputs": [
    {
     "data": {
      "text/html": [
       "<div>\n",
       "<style scoped>\n",
       "    .dataframe tbody tr th:only-of-type {\n",
       "        vertical-align: middle;\n",
       "    }\n",
       "\n",
       "    .dataframe tbody tr th {\n",
       "        vertical-align: top;\n",
       "    }\n",
       "\n",
       "    .dataframe thead th {\n",
       "        text-align: right;\n",
       "    }\n",
       "</style>\n",
       "<table border=\"1\" class=\"dataframe\">\n",
       "  <thead>\n",
       "    <tr style=\"text-align: right;\">\n",
       "      <th></th>\n",
       "      <th>id</th>\n",
       "      <th>text</th>\n",
       "      <th>author_id</th>\n",
       "      <th>created_at</th>\n",
       "      <th>public_metrics</th>\n",
       "      <th>reply_settings</th>\n",
       "      <th>entities</th>\n",
       "      <th>possibly_sensitive</th>\n",
       "      <th>edit_history_tweet_ids</th>\n",
       "      <th>source</th>\n",
       "      <th>lang</th>\n",
       "      <th>referenced_tweets</th>\n",
       "      <th>conversation_id</th>\n",
       "      <th>in_reply_to_user_id</th>\n",
       "      <th>attachments</th>\n",
       "      <th>withheld</th>\n",
       "      <th>predictions</th>\n",
       "    </tr>\n",
       "  </thead>\n",
       "  <tbody>\n",
       "    <tr>\n",
       "      <th>8597</th>\n",
       "      <td>1588001572419764224</td>\n",
       "      <td>RT via @NHC_Atlantic: Tropical Storm #Lisa Adv...</td>\n",
       "      <td>818842601327562752</td>\n",
       "      <td>2022-11-03T02:54:13.000Z</td>\n",
       "      <td>{'retweet_count': 0, 'reply_count': 0, 'like_c...</td>\n",
       "      <td>everyone</td>\n",
       "      <td>{'urls': [{'start': 153, 'end': 176, 'url': 'h...</td>\n",
       "      <td>False</td>\n",
       "      <td>['1588001572419764224']</td>\n",
       "      <td>IFTTT</td>\n",
       "      <td>en</td>\n",
       "      <td>NaN</td>\n",
       "      <td>1588001572419764224</td>\n",
       "      <td>NaN</td>\n",
       "      <td>NaN</td>\n",
       "      <td>NaN</td>\n",
       "      <td>1</td>\n",
       "    </tr>\n",
       "    <tr>\n",
       "      <th>8606</th>\n",
       "      <td>1588001558960054272</td>\n",
       "      <td>Make it rain, hurricane in it</td>\n",
       "      <td>700558609411780608</td>\n",
       "      <td>2022-11-03T02:54:09.000Z</td>\n",
       "      <td>{'retweet_count': 0, 'reply_count': 0, 'like_c...</td>\n",
       "      <td>everyone</td>\n",
       "      <td>NaN</td>\n",
       "      <td>False</td>\n",
       "      <td>['1588001558960054272']</td>\n",
       "      <td>Twitter for iPhone</td>\n",
       "      <td>en</td>\n",
       "      <td>NaN</td>\n",
       "      <td>1588001558960054272</td>\n",
       "      <td>NaN</td>\n",
       "      <td>NaN</td>\n",
       "      <td>NaN</td>\n",
       "      <td>1</td>\n",
       "    </tr>\n",
       "    <tr>\n",
       "      <th>8608</th>\n",
       "      <td>1588001556762337285</td>\n",
       "      <td>@Sam_Valance Anyone else notice the Republican...</td>\n",
       "      <td>363549180</td>\n",
       "      <td>2022-11-03T02:54:09.000Z</td>\n",
       "      <td>{'retweet_count': 0, 'reply_count': 0, 'like_c...</td>\n",
       "      <td>everyone</td>\n",
       "      <td>{'urls': [{'start': 263, 'end': 286, 'url': 'h...</td>\n",
       "      <td>False</td>\n",
       "      <td>['1588001556762337285']</td>\n",
       "      <td>Twitter Web App</td>\n",
       "      <td>en</td>\n",
       "      <td>[{'type': 'replied_to', 'id': '158794864055495...</td>\n",
       "      <td>1587948640554950656</td>\n",
       "      <td>16232484.0</td>\n",
       "      <td>{'media_keys': ['16_1588001551028830208']}</td>\n",
       "      <td>NaN</td>\n",
       "      <td>1</td>\n",
       "    </tr>\n",
       "    <tr>\n",
       "      <th>8615</th>\n",
       "      <td>1588001541553782784</td>\n",
       "      <td>Roofing and Solar in Hurricane Ian! What an ex...</td>\n",
       "      <td>353364316</td>\n",
       "      <td>2022-11-03T02:54:05.000Z</td>\n",
       "      <td>{'retweet_count': 0, 'reply_count': 0, 'like_c...</td>\n",
       "      <td>everyone</td>\n",
       "      <td>{'annotations': [{'start': 21, 'end': 33, 'pro...</td>\n",
       "      <td>False</td>\n",
       "      <td>['1588001541553782784']</td>\n",
       "      <td>Twitter for iPhone</td>\n",
       "      <td>en</td>\n",
       "      <td>NaN</td>\n",
       "      <td>1588001541553782784</td>\n",
       "      <td>NaN</td>\n",
       "      <td>NaN</td>\n",
       "      <td>NaN</td>\n",
       "      <td>1</td>\n",
       "    </tr>\n",
       "    <tr>\n",
       "      <th>8625</th>\n",
       "      <td>1588001507194142721</td>\n",
       "      <td>@CharlieCrist Another Democrat lie.  It was NO...</td>\n",
       "      <td>937844576672538626</td>\n",
       "      <td>2022-11-03T02:53:57.000Z</td>\n",
       "      <td>{'retweet_count': 0, 'reply_count': 0, 'like_c...</td>\n",
       "      <td>everyone</td>\n",
       "      <td>{'mentions': [{'start': 0, 'end': 13, 'usernam...</td>\n",
       "      <td>False</td>\n",
       "      <td>['1588001507194142721']</td>\n",
       "      <td>Twitter for iPhone</td>\n",
       "      <td>en</td>\n",
       "      <td>[{'type': 'replied_to', 'id': '158794943720846...</td>\n",
       "      <td>1587949437208469504</td>\n",
       "      <td>38970940.0</td>\n",
       "      <td>NaN</td>\n",
       "      <td>NaN</td>\n",
       "      <td>1</td>\n",
       "    </tr>\n",
       "  </tbody>\n",
       "</table>\n",
       "</div>"
      ],
      "text/plain": [
       "                       id                                               text  \\\n",
       "8597  1588001572419764224  RT via @NHC_Atlantic: Tropical Storm #Lisa Adv...   \n",
       "8606  1588001558960054272                      Make it rain, hurricane in it   \n",
       "8608  1588001556762337285  @Sam_Valance Anyone else notice the Republican...   \n",
       "8615  1588001541553782784  Roofing and Solar in Hurricane Ian! What an ex...   \n",
       "8625  1588001507194142721  @CharlieCrist Another Democrat lie.  It was NO...   \n",
       "\n",
       "               author_id                created_at  \\\n",
       "8597  818842601327562752  2022-11-03T02:54:13.000Z   \n",
       "8606  700558609411780608  2022-11-03T02:54:09.000Z   \n",
       "8608           363549180  2022-11-03T02:54:09.000Z   \n",
       "8615           353364316  2022-11-03T02:54:05.000Z   \n",
       "8625  937844576672538626  2022-11-03T02:53:57.000Z   \n",
       "\n",
       "                                         public_metrics reply_settings  \\\n",
       "8597  {'retweet_count': 0, 'reply_count': 0, 'like_c...       everyone   \n",
       "8606  {'retweet_count': 0, 'reply_count': 0, 'like_c...       everyone   \n",
       "8608  {'retweet_count': 0, 'reply_count': 0, 'like_c...       everyone   \n",
       "8615  {'retweet_count': 0, 'reply_count': 0, 'like_c...       everyone   \n",
       "8625  {'retweet_count': 0, 'reply_count': 0, 'like_c...       everyone   \n",
       "\n",
       "                                               entities  possibly_sensitive  \\\n",
       "8597  {'urls': [{'start': 153, 'end': 176, 'url': 'h...               False   \n",
       "8606                                                NaN               False   \n",
       "8608  {'urls': [{'start': 263, 'end': 286, 'url': 'h...               False   \n",
       "8615  {'annotations': [{'start': 21, 'end': 33, 'pro...               False   \n",
       "8625  {'mentions': [{'start': 0, 'end': 13, 'usernam...               False   \n",
       "\n",
       "       edit_history_tweet_ids              source lang  \\\n",
       "8597  ['1588001572419764224']               IFTTT   en   \n",
       "8606  ['1588001558960054272']  Twitter for iPhone   en   \n",
       "8608  ['1588001556762337285']     Twitter Web App   en   \n",
       "8615  ['1588001541553782784']  Twitter for iPhone   en   \n",
       "8625  ['1588001507194142721']  Twitter for iPhone   en   \n",
       "\n",
       "                                      referenced_tweets      conversation_id  \\\n",
       "8597                                                NaN  1588001572419764224   \n",
       "8606                                                NaN  1588001558960054272   \n",
       "8608  [{'type': 'replied_to', 'id': '158794864055495...  1587948640554950656   \n",
       "8615                                                NaN  1588001541553782784   \n",
       "8625  [{'type': 'replied_to', 'id': '158794943720846...  1587949437208469504   \n",
       "\n",
       "      in_reply_to_user_id                                 attachments  \\\n",
       "8597                  NaN                                         NaN   \n",
       "8606                  NaN                                         NaN   \n",
       "8608           16232484.0  {'media_keys': ['16_1588001551028830208']}   \n",
       "8615                  NaN                                         NaN   \n",
       "8625           38970940.0                                         NaN   \n",
       "\n",
       "     withheld  predictions  \n",
       "8597      NaN            1  \n",
       "8606      NaN            1  \n",
       "8608      NaN            1  \n",
       "8615      NaN            1  \n",
       "8625      NaN            1  "
      ]
     },
     "execution_count": 22,
     "metadata": {},
     "output_type": "execute_result"
    }
   ],
   "source": [
    "final_df.tail()"
   ]
  },
  {
   "cell_type": "code",
   "execution_count": 23,
   "id": "74f96e16",
   "metadata": {},
   "outputs": [],
   "source": [
    "# final_sandy.to_csv('./CLEAN_ADD_HUR_DATA/sandy_2012_yn.csv', index=False)"
   ]
  },
  {
   "cell_type": "code",
   "execution_count": 24,
   "id": "736c33fa",
   "metadata": {},
   "outputs": [],
   "source": [
    "# final_df.to_csv('./CLEAN_ADD_HUR_DATA/arthur_2014_yn.csv', index=False)"
   ]
  },
  {
   "cell_type": "code",
   "execution_count": 25,
   "id": "4f6182b0",
   "metadata": {},
   "outputs": [],
   "source": [
    "# final_df.to_csv('./CLEAN_ADD_HUR_DATA/barry_2019_yn.csv', index=False)"
   ]
  },
  {
   "cell_type": "code",
   "execution_count": 26,
   "id": "eca30636",
   "metadata": {},
   "outputs": [],
   "source": [
    "# final_df.to_csv('./CLEAN_ADD_HUR_DATA/florence_2018_yn.csv', index=False)"
   ]
  },
  {
   "cell_type": "code",
   "execution_count": 27,
   "id": "e3883dc3",
   "metadata": {},
   "outputs": [],
   "source": [
    "# final_df.to_csv('./CLEAN_ADD_HUR_DATA/isaias_2020_yn.csv', index=False)"
   ]
  },
  {
   "cell_type": "code",
   "execution_count": 28,
   "id": "9432a9b5",
   "metadata": {},
   "outputs": [],
   "source": [
    "final_df.to_csv('./CLEAN_ADD_HUR_DATA/ian_2022_yn.csv', index=False)"
   ]
  },
  {
   "cell_type": "code",
   "execution_count": null,
   "id": "225740fd",
   "metadata": {},
   "outputs": [],
   "source": []
  },
  {
   "cell_type": "code",
   "execution_count": null,
   "id": "9b2882e6",
   "metadata": {},
   "outputs": [],
   "source": []
  }
 ],
 "metadata": {
  "kernelspec": {
   "display_name": "Python 3 (ipykernel)",
   "language": "python",
   "name": "python3"
  },
  "language_info": {
   "codemirror_mode": {
    "name": "ipython",
    "version": 3
   },
   "file_extension": ".py",
   "mimetype": "text/x-python",
   "name": "python",
   "nbconvert_exporter": "python",
   "pygments_lexer": "ipython3",
   "version": "3.10.8"
  }
 },
 "nbformat": 4,
 "nbformat_minor": 5
}
