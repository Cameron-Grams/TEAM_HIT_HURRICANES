{
 "cells": [
  {
   "cell_type": "code",
   "execution_count": 1,
   "id": "b2c2604a",
   "metadata": {},
   "outputs": [],
   "source": [
    "import pandas as pd\n",
    "import os"
   ]
  },
  {
   "cell_type": "code",
   "execution_count": 2,
   "id": "dcbeb90b",
   "metadata": {},
   "outputs": [],
   "source": [
    "# parent event set folder from: "
   ]
  },
  {
   "cell_type": "code",
   "execution_count": 3,
   "id": "f9369a82",
   "metadata": {},
   "outputs": [],
   "source": [
    "all_files = []"
   ]
  },
  {
   "cell_type": "code",
   "execution_count": 4,
   "id": "c2baaa1f",
   "metadata": {},
   "outputs": [],
   "source": [
    "hurricane_directories = [('hurricane_maria_2017', 'Maria'),\n",
    " ('hurricane_irma_2017', 'Irma'),\n",
    " ('hurricane_harvey_2017', 'Harvey'),\n",
    " ('hurricane_matthew_2016', 'Matthew')]"
   ]
  },
  {
   "cell_type": "code",
   "execution_count": 5,
   "id": "ae0f0396",
   "metadata": {},
   "outputs": [
    {
     "name": "stdout",
     "output_type": "stream",
     "text": [
      "hurricane_maria_2017_train.tsv\n",
      "hurricane_maria_2017_test.tsv\n",
      "hurricane_maria_2017_dev.tsv\n",
      "hurricane_irma_2017_dev.tsv\n",
      "hurricane_irma_2017_test.tsv\n",
      "hurricane_irma_2017_train.tsv\n",
      "hurricane_harvey_2017_train.tsv\n",
      "hurricane_harvey_2017_dev.tsv\n",
      "hurricane_harvey_2017_test.tsv\n",
      "hurricane_matthew_2016_dev.tsv\n",
      "hurricane_matthew_2016_test.tsv\n",
      "hurricane_matthew_2016_train.tsv\n"
     ]
    }
   ],
   "source": [
    "for d, name in hurricane_directories:\n",
    "    files = os.listdir(d)\n",
    "    for f in files:\n",
    "        print(f)\n",
    "        df = pd.read_csv(f\"{d}/{f}\", delimiter='\\t')\n",
    "        df['hurricane'] = name\n",
    "        all_files.append(df)"
   ]
  },
  {
   "cell_type": "code",
   "execution_count": 6,
   "id": "9cd7819f",
   "metadata": {},
   "outputs": [
    {
     "data": {
      "text/plain": [
       "12"
      ]
     },
     "execution_count": 6,
     "metadata": {},
     "output_type": "execute_result"
    }
   ],
   "source": [
    "len(all_files)"
   ]
  },
  {
   "cell_type": "code",
   "execution_count": 7,
   "id": "88b8191e",
   "metadata": {},
   "outputs": [],
   "source": [
    "df = pd.concat(all_files)\n",
    "df = df.drop_duplicates()"
   ]
  },
  {
   "cell_type": "code",
   "execution_count": 8,
   "id": "96ca2acc",
   "metadata": {},
   "outputs": [
    {
     "data": {
      "text/plain": [
       "(27443, 4)"
      ]
     },
     "execution_count": 8,
     "metadata": {},
     "output_type": "execute_result"
    }
   ],
   "source": [
    "df.shape"
   ]
  },
  {
   "cell_type": "code",
   "execution_count": 9,
   "id": "055043ba",
   "metadata": {
    "scrolled": true
   },
   "outputs": [
    {
     "data": {
      "text/html": [
       "<div>\n",
       "<style scoped>\n",
       "    .dataframe tbody tr th:only-of-type {\n",
       "        vertical-align: middle;\n",
       "    }\n",
       "\n",
       "    .dataframe tbody tr th {\n",
       "        vertical-align: top;\n",
       "    }\n",
       "\n",
       "    .dataframe thead th {\n",
       "        text-align: right;\n",
       "    }\n",
       "</style>\n",
       "<table border=\"1\" class=\"dataframe\">\n",
       "  <thead>\n",
       "    <tr style=\"text-align: right;\">\n",
       "      <th></th>\n",
       "      <th>tweet_id</th>\n",
       "      <th>tweet_text</th>\n",
       "      <th>class_label</th>\n",
       "      <th>hurricane</th>\n",
       "    </tr>\n",
       "  </thead>\n",
       "  <tbody>\n",
       "    <tr>\n",
       "      <th>0</th>\n",
       "      <td>914134332226330625</td>\n",
       "      <td>San Juan: Trump lashes out with good reason. #...</td>\n",
       "      <td>other_relevant_information</td>\n",
       "      <td>Maria</td>\n",
       "    </tr>\n",
       "    <tr>\n",
       "      <th>1</th>\n",
       "      <td>910783670134476800</td>\n",
       "      <td>Hurricane Maria Live Updates: Catastrophic Flo...</td>\n",
       "      <td>caution_and_advice</td>\n",
       "      <td>Maria</td>\n",
       "    </tr>\n",
       "    <tr>\n",
       "      <th>2</th>\n",
       "      <td>912134938727780355</td>\n",
       "      <td>Getting food to the island is, obviously, crit...</td>\n",
       "      <td>rescue_volunteering_or_donation_effort</td>\n",
       "      <td>Maria</td>\n",
       "    </tr>\n",
       "    <tr>\n",
       "      <th>3</th>\n",
       "      <td>910669838842056704</td>\n",
       "      <td>My heart breaks for the families in Puerto Ric...</td>\n",
       "      <td>sympathy_and_support</td>\n",
       "      <td>Maria</td>\n",
       "    </tr>\n",
       "    <tr>\n",
       "      <th>4</th>\n",
       "      <td>912287091026997248</td>\n",
       "      <td>#B-FAST sending medical, reconstruction &amp;amp; ...</td>\n",
       "      <td>rescue_volunteering_or_donation_effort</td>\n",
       "      <td>Maria</td>\n",
       "    </tr>\n",
       "  </tbody>\n",
       "</table>\n",
       "</div>"
      ],
      "text/plain": [
       "             tweet_id                                         tweet_text  \\\n",
       "0  914134332226330625  San Juan: Trump lashes out with good reason. #...   \n",
       "1  910783670134476800  Hurricane Maria Live Updates: Catastrophic Flo...   \n",
       "2  912134938727780355  Getting food to the island is, obviously, crit...   \n",
       "3  910669838842056704  My heart breaks for the families in Puerto Ric...   \n",
       "4  912287091026997248  #B-FAST sending medical, reconstruction &amp; ...   \n",
       "\n",
       "                              class_label hurricane  \n",
       "0              other_relevant_information     Maria  \n",
       "1                      caution_and_advice     Maria  \n",
       "2  rescue_volunteering_or_donation_effort     Maria  \n",
       "3                    sympathy_and_support     Maria  \n",
       "4  rescue_volunteering_or_donation_effort     Maria  "
      ]
     },
     "execution_count": 9,
     "metadata": {},
     "output_type": "execute_result"
    }
   ],
   "source": [
    "df.head()"
   ]
  },
  {
   "cell_type": "code",
   "execution_count": 10,
   "id": "dcae9637",
   "metadata": {},
   "outputs": [],
   "source": [
    "# df.to_csv('all_labeled_data_without_maryland.csv', index=False)"
   ]
  },
  {
   "cell_type": "code",
   "execution_count": 11,
   "id": "77551b1f",
   "metadata": {},
   "outputs": [
    {
     "data": {
      "text/plain": [
       "class_label\n",
       "caution_and_advice                        1410\n",
       "displaced_people_and_evacuations          1612\n",
       "infrastructure_and_utility_damage         4703\n",
       "injured_or_dead_people                    2118\n",
       "not_humanitarian                          1371\n",
       "other_relevant_information                6021\n",
       "requests_or_urgent_needs                  1223\n",
       "rescue_volunteering_or_donation_effort    6716\n",
       "sympathy_and_support                      2269\n",
       "Name: tweet_text, dtype: int64"
      ]
     },
     "execution_count": 11,
     "metadata": {},
     "output_type": "execute_result"
    }
   ],
   "source": [
    "df_classes = df.groupby('class_label')['tweet_text'].count()\n",
    "df_classes"
   ]
  },
  {
   "cell_type": "code",
   "execution_count": 12,
   "id": "29285aa0",
   "metadata": {},
   "outputs": [
    {
     "data": {
      "text/plain": [
       "(28185, 3)"
      ]
     },
     "execution_count": 12,
     "metadata": {},
     "output_type": "execute_result"
    }
   ],
   "source": [
    "df_2 = pd.read_csv('all_labeled_data.csv')\n",
    "df_2.shape"
   ]
  },
  {
   "cell_type": "code",
   "execution_count": 13,
   "id": "f84e4613",
   "metadata": {},
   "outputs": [
    {
     "data": {
      "text/plain": [
       "class_label\n",
       "caution_and_advice                        1480\n",
       "displaced_people_and_evacuations          1612\n",
       "infrastructure_and_utility_damage         4782\n",
       "injured_or_dead_people                    2174\n",
       "missing_or_found_people                    140\n",
       "not_humanitarian                          1448\n",
       "other_relevant_information                6158\n",
       "requests_or_urgent_needs                  1223\n",
       "rescue_volunteering_or_donation_effort    6789\n",
       "sympathy_and_support                      2379\n",
       "Name: tweet_text, dtype: int64"
      ]
     },
     "execution_count": 13,
     "metadata": {},
     "output_type": "execute_result"
    }
   ],
   "source": [
    "df_2_classes = df_2.groupby('class_label')['tweet_text'].count()\n",
    "df_2_classes"
   ]
  },
  {
   "cell_type": "code",
   "execution_count": 14,
   "id": "555648cb",
   "metadata": {},
   "outputs": [
    {
     "data": {
      "text/plain": [
       "(27443, 4)"
      ]
     },
     "execution_count": 14,
     "metadata": {},
     "output_type": "execute_result"
    }
   ],
   "source": [
    "df.shape"
   ]
  },
  {
   "cell_type": "code",
   "execution_count": 15,
   "id": "b30644ae",
   "metadata": {},
   "outputs": [
    {
     "data": {
      "text/html": [
       "<div>\n",
       "<style scoped>\n",
       "    .dataframe tbody tr th:only-of-type {\n",
       "        vertical-align: middle;\n",
       "    }\n",
       "\n",
       "    .dataframe tbody tr th {\n",
       "        vertical-align: top;\n",
       "    }\n",
       "\n",
       "    .dataframe thead th {\n",
       "        text-align: right;\n",
       "    }\n",
       "</style>\n",
       "<table border=\"1\" class=\"dataframe\">\n",
       "  <thead>\n",
       "    <tr style=\"text-align: right;\">\n",
       "      <th></th>\n",
       "      <th>tweet_id</th>\n",
       "      <th>tweet_text</th>\n",
       "      <th>class_label</th>\n",
       "      <th>hurricane</th>\n",
       "    </tr>\n",
       "  </thead>\n",
       "  <tbody>\n",
       "    <tr>\n",
       "      <th>0</th>\n",
       "      <td>914134332226330625</td>\n",
       "      <td>San Juan: Trump lashes out with good reason. #...</td>\n",
       "      <td>other_relevant_information</td>\n",
       "      <td>Maria</td>\n",
       "    </tr>\n",
       "    <tr>\n",
       "      <th>1</th>\n",
       "      <td>910783670134476800</td>\n",
       "      <td>Hurricane Maria Live Updates: Catastrophic Flo...</td>\n",
       "      <td>caution_and_advice</td>\n",
       "      <td>Maria</td>\n",
       "    </tr>\n",
       "    <tr>\n",
       "      <th>2</th>\n",
       "      <td>912134938727780355</td>\n",
       "      <td>Getting food to the island is, obviously, crit...</td>\n",
       "      <td>rescue_volunteering_or_donation_effort</td>\n",
       "      <td>Maria</td>\n",
       "    </tr>\n",
       "    <tr>\n",
       "      <th>3</th>\n",
       "      <td>910669838842056704</td>\n",
       "      <td>My heart breaks for the families in Puerto Ric...</td>\n",
       "      <td>sympathy_and_support</td>\n",
       "      <td>Maria</td>\n",
       "    </tr>\n",
       "    <tr>\n",
       "      <th>4</th>\n",
       "      <td>912287091026997248</td>\n",
       "      <td>#B-FAST sending medical, reconstruction &amp;amp; ...</td>\n",
       "      <td>rescue_volunteering_or_donation_effort</td>\n",
       "      <td>Maria</td>\n",
       "    </tr>\n",
       "  </tbody>\n",
       "</table>\n",
       "</div>"
      ],
      "text/plain": [
       "             tweet_id                                         tweet_text  \\\n",
       "0  914134332226330625  San Juan: Trump lashes out with good reason. #...   \n",
       "1  910783670134476800  Hurricane Maria Live Updates: Catastrophic Flo...   \n",
       "2  912134938727780355  Getting food to the island is, obviously, crit...   \n",
       "3  910669838842056704  My heart breaks for the families in Puerto Ric...   \n",
       "4  912287091026997248  #B-FAST sending medical, reconstruction &amp; ...   \n",
       "\n",
       "                              class_label hurricane  \n",
       "0              other_relevant_information     Maria  \n",
       "1                      caution_and_advice     Maria  \n",
       "2  rescue_volunteering_or_donation_effort     Maria  \n",
       "3                    sympathy_and_support     Maria  \n",
       "4  rescue_volunteering_or_donation_effort     Maria  "
      ]
     },
     "execution_count": 15,
     "metadata": {},
     "output_type": "execute_result"
    }
   ],
   "source": [
    "df.head()"
   ]
  },
  {
   "cell_type": "code",
   "execution_count": 16,
   "id": "d999d972",
   "metadata": {},
   "outputs": [],
   "source": [
    "df.to_csv('website_all_labeled_2016_17_hurricanes.csv', index=False)"
   ]
  },
  {
   "cell_type": "code",
   "execution_count": null,
   "id": "42644e6c",
   "metadata": {},
   "outputs": [],
   "source": []
  }
 ],
 "metadata": {
  "kernelspec": {
   "display_name": "Python 3 (ipykernel)",
   "language": "python",
   "name": "python3"
  },
  "language_info": {
   "codemirror_mode": {
    "name": "ipython",
    "version": 3
   },
   "file_extension": ".py",
   "mimetype": "text/x-python",
   "name": "python",
   "nbconvert_exporter": "python",
   "pygments_lexer": "ipython3",
   "version": "3.10.8"
  }
 },
 "nbformat": 4,
 "nbformat_minor": 5
}
