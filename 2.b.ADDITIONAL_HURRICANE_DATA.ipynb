{
 "cells": [
  {
   "cell_type": "code",
   "execution_count": 1,
   "id": "dd8bda5a",
   "metadata": {},
   "outputs": [],
   "source": [
    "import pandas as pd\n",
    "import numpy as np"
   ]
  },
  {
   "cell_type": "code",
   "execution_count": 2,
   "id": "5e03403f",
   "metadata": {},
   "outputs": [],
   "source": [
    "import json\n",
    "import datetime\n",
    "import random"
   ]
  },
  {
   "cell_type": "code",
   "execution_count": 3,
   "id": "502af1c1",
   "metadata": {},
   "outputs": [],
   "source": [
    "import config\n",
    "import request_history"
   ]
  },
  {
   "cell_type": "code",
   "execution_count": 4,
   "id": "21347512",
   "metadata": {},
   "outputs": [],
   "source": [
    "# hurricane sandy: formed: 1 July 2014, dissipated: 9 July 2014\n",
    "date_ = '2012-09-15T00:00:00.000Z'"
   ]
  },
  {
   "cell_type": "code",
   "execution_count": 5,
   "id": "89a0a872",
   "metadata": {},
   "outputs": [],
   "source": [
    "# hurricane arthur: formed: 1 July 2014, dissipated: 9 July 2014\n",
    "# date_ = '2014-06-01T00:00:00.000Z'"
   ]
  },
  {
   "cell_type": "code",
   "execution_count": 6,
   "id": "865b067b",
   "metadata": {},
   "outputs": [],
   "source": [
    "# hurricane florence: formed: 31 Aug 2018, dissipated: 18 Sept 2018\n",
    "# date_ = '2018-08-01T00:00:00.000Z'"
   ]
  },
  {
   "cell_type": "code",
   "execution_count": 7,
   "id": "d42d33f0",
   "metadata": {},
   "outputs": [],
   "source": [
    "# hurricane barry: formed: 11 July 2019, dissipated: 19 July 2019\n",
    "# date_ = '2019-06-15T00:00:00.000Z'"
   ]
  },
  {
   "cell_type": "code",
   "execution_count": 8,
   "id": "6270d56b",
   "metadata": {},
   "outputs": [],
   "source": [
    "# hurricane Isaias: formed: 30 July 2020, dissipated: 5 Aug 2020\n",
    "# date_ = '2020-07-01T00:00:00.000Z'"
   ]
  },
  {
   "cell_type": "code",
   "execution_count": 9,
   "id": "4e529306",
   "metadata": {},
   "outputs": [],
   "source": [
    "# hurricane nicholas: formed: 12 Sept 2021, dissipated: 20 Sept 2021\n",
    "# date_ = '2021-08-15T00:00:00.000Z'"
   ]
  },
  {
   "cell_type": "code",
   "execution_count": 24,
   "id": "f8a4d212",
   "metadata": {},
   "outputs": [],
   "source": [
    "# hurricane terms adopted from the Stowe paper: \n",
    "# change the name of the storm per date range\n",
    "query_terms = \"Category 3 OR Category 4 OR landfall OR eyewall OR cleanup OR debris OR garbage OR hurricane OR hurricaneian OR perfectstorm OR sandy OR stormporn OR superstorm OR Tropical Storm\""
   ]
  },
  {
   "cell_type": "code",
   "execution_count": 11,
   "id": "1c7159d6",
   "metadata": {},
   "outputs": [],
   "source": [
    "# update dates iterates by 5 days + random hour selection - 500 tweets filled up in minutes\n",
    "# so a random hour selection was used to interject variability in the time selection \n",
    "\n",
    "def generate_dates(old_end):\n",
    "    \"\"\"\n",
    "    updates the start and end dates to pull tweets from the Twitter API (Academic Permissions)\n",
    "    arguments:\n",
    "        - old_end: string formated date to start the window for pulling set of 500 tweets\n",
    "        \n",
    "    return:\n",
    "        - new_start: the previous end date\n",
    "        - new_end: 5 days from the old end, at a random hour\n",
    "    \"\"\"\n",
    "    hour_increment = random.randint(0, 23)\n",
    "    new_start = old_end\n",
    "\n",
    "    old_date = datetime.datetime.strptime(old_end, '%Y-%m-%dT%H:%M:%S.%fZ')\n",
    "    new_end_dtg = old_date + datetime.timedelta(days=3, hours=hour_increment)\n",
    "    new_end = datetime.datetime.strftime(new_end_dtg, '%Y-%m-%dT%H:%M:%S.%fZ')\n",
    "\n",
    "    return new_start, new_end"
   ]
  },
  {
   "cell_type": "code",
   "execution_count": 12,
   "id": "1d4080ea",
   "metadata": {},
   "outputs": [],
   "source": [
    "def next_batch(previous_end, query_terms=query_terms, generate_dates=generate_dates):\n",
    "    # request 500 tweets at a time\n",
    "    time_now = datetime.datetime.now()\n",
    "    print(f\"Time of most recent request: {time_now.hour}:{time_now.minute}\")\n",
    "\n",
    "    start, end = generate_dates(previous_end)\n",
    "    tweet_batch = request_history.main(query_terms, start, end)\n",
    "\n",
    "    return end, tweet_batch"
   ]
  },
  {
   "cell_type": "code",
   "execution_count": 13,
   "id": "7cbb7087",
   "metadata": {},
   "outputs": [],
   "source": [
    "def create_tweets_df(raw_list):\n",
    "    list_of_tweets = []\n",
    "    for tweet in raw_list:\n",
    "        current_df = pd.DataFrame([tweet])\n",
    "        list_of_tweets.append(current_df)\n",
    "    df = pd.concat(list_of_tweets, ignore_index=True)\n",
    "    return df"
   ]
  },
  {
   "cell_type": "code",
   "execution_count": 14,
   "id": "3eb2b54e",
   "metadata": {},
   "outputs": [
    {
     "name": "stdout",
     "output_type": "stream",
     "text": [
      "Time of most recent request: 13:19\n",
      "200\n",
      "Time of most recent request: 13:19\n",
      "200\n",
      "Time of most recent request: 13:19\n",
      "200\n",
      "Time of most recent request: 13:20\n",
      "200\n",
      "Time of most recent request: 13:20\n",
      "200\n",
      "Time of most recent request: 13:20\n",
      "200\n",
      "Time of most recent request: 13:20\n",
      "200\n",
      "Time of most recent request: 13:20\n",
      "200\n",
      "Time of most recent request: 13:20\n",
      "200\n",
      "Time of most recent request: 13:20\n",
      "200\n",
      "Time of most recent request: 13:20\n",
      "200\n",
      "Time of most recent request: 13:20\n",
      "200\n",
      "Time of most recent request: 13:20\n",
      "200\n",
      "Time of most recent request: 13:20\n",
      "200\n",
      "Time of most recent request: 13:20\n",
      "200\n",
      "Time of most recent request: 13:20\n",
      "200\n",
      "Time of most recent request: 13:20\n",
      "200\n",
      "Time of most recent request: 13:20\n",
      "200\n",
      "Time of most recent request: 13:20\n",
      "200\n",
      "Time of most recent request: 13:20\n",
      "200\n",
      "Time of most recent request: 13:20\n",
      "200\n",
      "Time of most recent request: 13:20\n",
      "200\n",
      "Time of most recent request: 13:20\n",
      "200\n",
      "Time of most recent request: 13:20\n",
      "200\n",
      "Time of most recent request: 13:20\n",
      "200\n"
     ]
    }
   ],
   "source": [
    "all_dfs = []\n",
    "for _ in range(25):\n",
    "    try:\n",
    "        date_, tweets = next_batch(date_)\n",
    "        df = create_tweets_df(tweets['data'])\n",
    "        all_dfs.append(df)\n",
    "    except Exception as e:\n",
    "        print(\"Final date: \", date_)\n",
    "        print(\"API errors: \", e)\n",
    "        break"
   ]
  },
  {
   "cell_type": "code",
   "execution_count": 15,
   "id": "3a994c84",
   "metadata": {},
   "outputs": [
    {
     "data": {
      "text/plain": [
       "(12128, 15)"
      ]
     },
     "execution_count": 15,
     "metadata": {},
     "output_type": "execute_result"
    }
   ],
   "source": [
    "final_df = pd.concat(all_dfs, ignore_index=True)\n",
    "final_df.shape"
   ]
  },
  {
   "cell_type": "code",
   "execution_count": 16,
   "id": "d549aadc",
   "metadata": {},
   "outputs": [
    {
     "data": {
      "text/plain": [
       "'2012-12-10T22:00:00.000000Z'"
      ]
     },
     "execution_count": 16,
     "metadata": {},
     "output_type": "execute_result"
    }
   ],
   "source": [
    "date_"
   ]
  },
  {
   "cell_type": "code",
   "execution_count": 17,
   "id": "d385a5b3",
   "metadata": {},
   "outputs": [
    {
     "data": {
      "text/plain": [
       "['possibly_sensitive',\n",
       " 'referenced_tweets',\n",
       " 'author_id',\n",
       " 'text',\n",
       " 'conversation_id',\n",
       " 'lang',\n",
       " 'created_at',\n",
       " 'public_metrics',\n",
       " 'entities',\n",
       " 'edit_history_tweet_ids',\n",
       " 'source',\n",
       " 'reply_settings',\n",
       " 'id',\n",
       " 'in_reply_to_user_id',\n",
       " 'attachments']"
      ]
     },
     "execution_count": 17,
     "metadata": {},
     "output_type": "execute_result"
    }
   ],
   "source": [
    "cols = list(final_df.columns)\n",
    "cols"
   ]
  },
  {
   "cell_type": "code",
   "execution_count": 20,
   "id": "f6e6efc7",
   "metadata": {},
   "outputs": [
    {
     "data": {
      "text/plain": [
       "15"
      ]
     },
     "execution_count": 20,
     "metadata": {},
     "output_type": "execute_result"
    }
   ],
   "source": [
    "order = [\n",
    "    'id',\n",
    "    'text',\n",
    "    'author_id',\n",
    "    'created_at',\n",
    "    'public_metrics',\n",
    "    'reply_settings',\n",
    "    'entities',\n",
    "    'possibly_sensitive',\n",
    "    'edit_history_tweet_ids',\n",
    "    'source',\n",
    "    'lang',\n",
    "    'referenced_tweets',\n",
    "    'conversation_id',\n",
    "    'in_reply_to_user_id',\n",
    "    'attachments'    \n",
    "]\n",
    "\n",
    "len(order)"
   ]
  },
  {
   "cell_type": "code",
   "execution_count": 21,
   "id": "e1b52258",
   "metadata": {},
   "outputs": [],
   "source": [
    "df = final_df[order]"
   ]
  },
  {
   "cell_type": "code",
   "execution_count": 22,
   "id": "ecf890a5",
   "metadata": {},
   "outputs": [],
   "source": [
    "df.to_csv('./ADD_HUR_DATA/sandy_2012_3day_increment_v2.csv', index=False)\n",
    "# df.to_csv('./ADD_HUR_DATA/arthur_2014_3day_increment_v2.csv', index=False)\n",
    "# df.to_csv('./ADD_HUR_DATA/florence_2018_3day_increment.csv', index=False)\n",
    "# df.to_csv('./ADD_HUR_DATA/barry_2019_3day_increment.csv', index=False)\n",
    "# df.to_csv('./ADD_HUR_DATA/isaias_2020_3day_increment.csv', index=False)\n",
    "# df.to_csv('./ADD_HUR_DATA/nicholas_2021_3day_increment.csv', index=False)"
   ]
  },
  {
   "cell_type": "code",
   "execution_count": 23,
   "id": "297f81ec",
   "metadata": {},
   "outputs": [
    {
     "data": {
      "text/html": [
       "<div>\n",
       "<style scoped>\n",
       "    .dataframe tbody tr th:only-of-type {\n",
       "        vertical-align: middle;\n",
       "    }\n",
       "\n",
       "    .dataframe tbody tr th {\n",
       "        vertical-align: top;\n",
       "    }\n",
       "\n",
       "    .dataframe thead th {\n",
       "        text-align: right;\n",
       "    }\n",
       "</style>\n",
       "<table border=\"1\" class=\"dataframe\">\n",
       "  <thead>\n",
       "    <tr style=\"text-align: right;\">\n",
       "      <th></th>\n",
       "      <th>id</th>\n",
       "      <th>text</th>\n",
       "      <th>author_id</th>\n",
       "      <th>created_at</th>\n",
       "      <th>public_metrics</th>\n",
       "      <th>reply_settings</th>\n",
       "      <th>entities</th>\n",
       "      <th>possibly_sensitive</th>\n",
       "      <th>edit_history_tweet_ids</th>\n",
       "      <th>source</th>\n",
       "      <th>lang</th>\n",
       "      <th>referenced_tweets</th>\n",
       "      <th>conversation_id</th>\n",
       "      <th>in_reply_to_user_id</th>\n",
       "      <th>attachments</th>\n",
       "    </tr>\n",
       "  </thead>\n",
       "  <tbody>\n",
       "    <tr>\n",
       "      <th>0</th>\n",
       "      <td>247877587320320000</td>\n",
       "      <td>RT @SashaAlexander1: @Sandy_CH hi everyone!!!</td>\n",
       "      <td>71622557</td>\n",
       "      <td>2012-09-18T01:59:56.000Z</td>\n",
       "      <td>{'retweet_count': 1, 'reply_count': 0, 'like_c...</td>\n",
       "      <td>everyone</td>\n",
       "      <td>{'mentions': [{'start': 3, 'end': 19, 'usernam...</td>\n",
       "      <td>False</td>\n",
       "      <td>[247877587320320000]</td>\n",
       "      <td>Twitter Web Client</td>\n",
       "      <td>en</td>\n",
       "      <td>[{'type': 'retweeted', 'id': '2475630734838333...</td>\n",
       "      <td>247877587320320000</td>\n",
       "      <td>NaN</td>\n",
       "      <td>NaN</td>\n",
       "    </tr>\n",
       "    <tr>\n",
       "      <th>1</th>\n",
       "      <td>247877570606006274</td>\n",
       "      <td>지드래곤, 3년만에 라디오... '유인나의 볼륨을 높여요' 단독 출연   http:...</td>\n",
       "      <td>501344528</td>\n",
       "      <td>2012-09-18T01:59:52.000Z</td>\n",
       "      <td>{'retweet_count': 0, 'reply_count': 0, 'like_c...</td>\n",
       "      <td>everyone</td>\n",
       "      <td>{'urls': [{'start': 41, 'end': 61, 'url': 'htt...</td>\n",
       "      <td>False</td>\n",
       "      <td>[247877570606006274]</td>\n",
       "      <td>Twitter for Websites</td>\n",
       "      <td>ko</td>\n",
       "      <td>NaN</td>\n",
       "      <td>247877570606006274</td>\n",
       "      <td>NaN</td>\n",
       "      <td>NaN</td>\n",
       "    </tr>\n",
       "    <tr>\n",
       "      <th>2</th>\n",
       "      <td>247877570064949248</td>\n",
       "      <td>RT @Sandy_Darius: @LisaReneeJones --&amp;gt;REVIEW...</td>\n",
       "      <td>464745731</td>\n",
       "      <td>2012-09-18T01:59:52.000Z</td>\n",
       "      <td>{'retweet_count': 1, 'reply_count': 0, 'like_c...</td>\n",
       "      <td>everyone</td>\n",
       "      <td>{'urls': [{'start': 107, 'end': 127, 'url': 'h...</td>\n",
       "      <td>False</td>\n",
       "      <td>[247877570064949248]</td>\n",
       "      <td>Twitter Web Client</td>\n",
       "      <td>en</td>\n",
       "      <td>[{'type': 'retweeted', 'id': '2478736788917002...</td>\n",
       "      <td>247877570064949248</td>\n",
       "      <td>NaN</td>\n",
       "      <td>NaN</td>\n",
       "    </tr>\n",
       "    <tr>\n",
       "      <th>3</th>\n",
       "      <td>247877565606395904</td>\n",
       "      <td>RT @kevinh801: @OhMyGlob_Sandy cause your a cr...</td>\n",
       "      <td>339666968</td>\n",
       "      <td>2012-09-18T01:59:51.000Z</td>\n",
       "      <td>{'retweet_count': 1, 'reply_count': 0, 'like_c...</td>\n",
       "      <td>everyone</td>\n",
       "      <td>{'mentions': [{'start': 3, 'end': 13, 'usernam...</td>\n",
       "      <td>False</td>\n",
       "      <td>[247877565606395904]</td>\n",
       "      <td>Twitter for iPhone</td>\n",
       "      <td>en</td>\n",
       "      <td>[{'type': 'retweeted', 'id': '2478774760370626...</td>\n",
       "      <td>247877565606395904</td>\n",
       "      <td>NaN</td>\n",
       "      <td>NaN</td>\n",
       "    </tr>\n",
       "    <tr>\n",
       "      <th>4</th>\n",
       "      <td>247877564532674560</td>\n",
       "      <td>@neewshamm @wacobjilliams not everyone is call...</td>\n",
       "      <td>337478070</td>\n",
       "      <td>2012-09-18T01:59:51.000Z</td>\n",
       "      <td>{'retweet_count': 0, 'reply_count': 1, 'like_c...</td>\n",
       "      <td>everyone</td>\n",
       "      <td>{'annotations': [{'start': 93, 'end': 98, 'pro...</td>\n",
       "      <td>False</td>\n",
       "      <td>[247877564532674560]</td>\n",
       "      <td>Twitter for iPhone</td>\n",
       "      <td>en</td>\n",
       "      <td>[{'type': 'replied_to', 'id': '247876134270808...</td>\n",
       "      <td>247876134270808064</td>\n",
       "      <td>284547633</td>\n",
       "      <td>NaN</td>\n",
       "    </tr>\n",
       "  </tbody>\n",
       "</table>\n",
       "</div>"
      ],
      "text/plain": [
       "                   id                                               text  \\\n",
       "0  247877587320320000      RT @SashaAlexander1: @Sandy_CH hi everyone!!!   \n",
       "1  247877570606006274  지드래곤, 3년만에 라디오... '유인나의 볼륨을 높여요' 단독 출연   http:...   \n",
       "2  247877570064949248  RT @Sandy_Darius: @LisaReneeJones --&gt;REVIEW...   \n",
       "3  247877565606395904  RT @kevinh801: @OhMyGlob_Sandy cause your a cr...   \n",
       "4  247877564532674560  @neewshamm @wacobjilliams not everyone is call...   \n",
       "\n",
       "   author_id                created_at  \\\n",
       "0   71622557  2012-09-18T01:59:56.000Z   \n",
       "1  501344528  2012-09-18T01:59:52.000Z   \n",
       "2  464745731  2012-09-18T01:59:52.000Z   \n",
       "3  339666968  2012-09-18T01:59:51.000Z   \n",
       "4  337478070  2012-09-18T01:59:51.000Z   \n",
       "\n",
       "                                      public_metrics reply_settings  \\\n",
       "0  {'retweet_count': 1, 'reply_count': 0, 'like_c...       everyone   \n",
       "1  {'retweet_count': 0, 'reply_count': 0, 'like_c...       everyone   \n",
       "2  {'retweet_count': 1, 'reply_count': 0, 'like_c...       everyone   \n",
       "3  {'retweet_count': 1, 'reply_count': 0, 'like_c...       everyone   \n",
       "4  {'retweet_count': 0, 'reply_count': 1, 'like_c...       everyone   \n",
       "\n",
       "                                            entities  possibly_sensitive  \\\n",
       "0  {'mentions': [{'start': 3, 'end': 19, 'usernam...               False   \n",
       "1  {'urls': [{'start': 41, 'end': 61, 'url': 'htt...               False   \n",
       "2  {'urls': [{'start': 107, 'end': 127, 'url': 'h...               False   \n",
       "3  {'mentions': [{'start': 3, 'end': 13, 'usernam...               False   \n",
       "4  {'annotations': [{'start': 93, 'end': 98, 'pro...               False   \n",
       "\n",
       "  edit_history_tweet_ids                source lang  \\\n",
       "0   [247877587320320000]    Twitter Web Client   en   \n",
       "1   [247877570606006274]  Twitter for Websites   ko   \n",
       "2   [247877570064949248]    Twitter Web Client   en   \n",
       "3   [247877565606395904]    Twitter for iPhone   en   \n",
       "4   [247877564532674560]    Twitter for iPhone   en   \n",
       "\n",
       "                                   referenced_tweets     conversation_id  \\\n",
       "0  [{'type': 'retweeted', 'id': '2475630734838333...  247877587320320000   \n",
       "1                                                NaN  247877570606006274   \n",
       "2  [{'type': 'retweeted', 'id': '2478736788917002...  247877570064949248   \n",
       "3  [{'type': 'retweeted', 'id': '2478774760370626...  247877565606395904   \n",
       "4  [{'type': 'replied_to', 'id': '247876134270808...  247876134270808064   \n",
       "\n",
       "  in_reply_to_user_id attachments  \n",
       "0                 NaN         NaN  \n",
       "1                 NaN         NaN  \n",
       "2                 NaN         NaN  \n",
       "3                 NaN         NaN  \n",
       "4           284547633         NaN  "
      ]
     },
     "execution_count": 23,
     "metadata": {},
     "output_type": "execute_result"
    }
   ],
   "source": [
    "df.head()"
   ]
  },
  {
   "cell_type": "code",
   "execution_count": null,
   "id": "ae05f318",
   "metadata": {},
   "outputs": [],
   "source": []
  }
 ],
 "metadata": {
  "kernelspec": {
   "display_name": "Python 3 (ipykernel)",
   "language": "python",
   "name": "python3"
  },
  "language_info": {
   "codemirror_mode": {
    "name": "ipython",
    "version": 3
   },
   "file_extension": ".py",
   "mimetype": "text/x-python",
   "name": "python",
   "nbconvert_exporter": "python",
   "pygments_lexer": "ipython3",
   "version": "3.10.8"
  }
 },
 "nbformat": 4,
 "nbformat_minor": 5
}
